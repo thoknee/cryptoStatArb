{
 "cells": [
  {
   "cell_type": "code",
   "execution_count": 2,
   "id": "bf90356b",
   "metadata": {},
   "outputs": [],
   "source": [
    "from binance.client import Client as bnb_client\n",
    "from datetime import datetime\n",
    "import pandas as pd \n",
    "import numpy as np \n",
    "import matplotlib.pyplot as plt\n",
    "from scipy.stats import zscore\n",
    "import snscrape.modules.twitter as sntwitter\n",
    "from vaderSentiment.vaderSentiment import SentimentIntensityAnalyzer"
   ]
  },
  {
   "cell_type": "code",
   "execution_count": 3,
   "id": "443b472a",
   "metadata": {},
   "outputs": [],
   "source": [
    "client = bnb_client(tld='US')\n",
    "\n",
    "def get_data(symbol,freq,start_ts = '2020-01-01',end_ts='2025-07-15'):\n",
    "    data = client.get_historical_klines(symbol,freq,start_ts,end_ts)\n",
    "    columns = ['open_time','open','high','low','close','volume','close_time','quote_volume',\n",
    "    'num_trades','taker_base_volume','taker_quote_volume','ignore']\n",
    "\n",
    "    data = pd.DataFrame(data,columns = columns)\n",
    "    \n",
    "    # Convert from POSIX timestamp (number of millisecond since jan 1, 1970)\n",
    "    data['open_time'] = data['open_time'].map(lambda x: datetime.utcfromtimestamp(x/1000))\n",
    "    data['close_time'] = data['close_time'].map(lambda x: datetime.utcfromtimestamp(x/1000))\n",
    "    return data"
   ]
  },
  {
   "cell_type": "code",
   "execution_count": 4,
   "id": "56870299",
   "metadata": {},
   "outputs": [],
   "source": [
    "universe = ['BTCUSDT', 'ETHUSDT', 'BNBUSDT', 'SOLUSDT', 'ADAUSDT', \n",
    "            'XRPUSDT', 'MATICUSDT', 'DOGEUSDT']\n",
    "freq = '4h'\n",
    "\n",
    "\n",
    "px = {}\n",
    "for x in universe:\n",
    "    data = get_data(x,freq)\n",
    "    px[x] = data.set_index('open_time')['close']\n",
    "\n",
    "px = pd.DataFrame(px).astype(float)\n",
    "px = px.reindex(pd.date_range(px.index[0],px.index[-1],freq=freq))\n",
    "ret = px.pct_change()"
   ]
  },
  {
   "cell_type": "code",
   "execution_count": null,
   "id": "9c706d91",
   "metadata": {},
   "outputs": [],
   "source": [
    "!pip install scrapfly-sdk\n",
    "from scrapfly import ScrapflyClient, ScrapeConfig\n",
    "from bs4 import BeautifulSoup\n",
    "import pandas as pd\n",
    "\n",
    "client = ScrapflyClient(key=\"YOUR_SCRAPFLY_API_KEY\")\n",
    "\n",
    "# Search Twitter (replace XRP with your term)\n",
    "query = \"XRP\"\n",
    "url = f\"https://twitter.com/search?q={query}&src=typed_query&f=live\"\n",
    "\n",
    "result = client.scrape(ScrapeConfig(\n",
    "    url=url,\n",
    "    render_js=True  # JS rendering is required for Twitter\n",
    "))\n",
    "\n",
    "# Parse tweets from HTML\n",
    "soup = BeautifulSoup(result.content, \"html.parser\")\n",
    "tweets = []\n",
    "\n",
    "# Note: Twitter structure is constantly changing. Look for tweet containers\n",
    "for div in soup.find_all(\"div\", attrs={\"data-testid\": \"tweet\"}):\n",
    "    content = div.get_text(separator=\" \")\n",
    "    tweets.append(content)\n",
    "\n",
    "# Store to DataFrame\n",
    "df = pd.DataFrame(tweets, columns=[\"tweet\"])\n",
    "print(df.head())\n"
   ]
  },
  {
   "cell_type": "code",
   "execution_count": null,
   "id": "cf06b5a6",
   "metadata": {},
   "outputs": [],
   "source": []
  }
 ],
 "metadata": {
  "kernelspec": {
   "display_name": "Python 3 (ipykernel)",
   "language": "python",
   "name": "python3"
  },
  "language_info": {
   "codemirror_mode": {
    "name": "ipython",
    "version": 3
   },
   "file_extension": ".py",
   "mimetype": "text/x-python",
   "name": "python",
   "nbconvert_exporter": "python",
   "pygments_lexer": "ipython3",
   "version": "3.9.13"
  }
 },
 "nbformat": 4,
 "nbformat_minor": 5
}
