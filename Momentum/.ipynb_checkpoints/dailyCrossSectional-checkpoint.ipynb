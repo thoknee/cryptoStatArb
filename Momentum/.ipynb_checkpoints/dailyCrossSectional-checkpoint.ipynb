{
 "cells": [
  {
   "cell_type": "code",
   "execution_count": 1,
   "id": "cb0edde6-4b86-4c12-80b2-37de9d88ac52",
   "metadata": {},
   "outputs": [],
   "source": [
    "from binance.client import Client as bnb_client\n",
    "from datetime import datetime\n",
    "import pandas as pd \n",
    "import numpy as np \n",
    "import matplotlib.pyplot as plt\n",
    "from scipy.stats import zscore"
   ]
  },
  {
   "cell_type": "code",
   "execution_count": null,
   "id": "df349280-fb14-4ba2-84ae-534ab801e214",
   "metadata": {},
   "outputs": [],
   "source": [
    "client = bnb_client(tld='US')\n",
    "\n",
    "def get_data(symbol,freq,start_ts = '2020-01-01',end_ts='2025-07-15'):\n",
    "    data = client.get_historical_klines(symbol,freq,start_ts,end_ts)\n",
    "    columns = ['open_time','open','high','low','close','volume','close_time','quote_volume',\n",
    "    'num_trades','taker_base_volume','taker_quote_volume','ignore']\n",
    "\n",
    "    data = pd.DataFrame(data,columns = columns)\n",
    "    \n",
    "    # Convert from POSIX timestamp (number of millisecond since jan 1, 1970)\n",
    "    data['open_time'] = data['open_time'].map(lambda x: datetime.utcfromtimestamp(x/1000))\n",
    "    data['close_time'] = data['close_time'].map(lambda x: datetime.utcfromtimestamp(x/1000))\n",
    "    return data"
   ]
  }
 ],
 "metadata": {
  "kernelspec": {
   "display_name": "Python [conda env:base] *",
   "language": "python",
   "name": "conda-base-py"
  },
  "language_info": {
   "codemirror_mode": {
    "name": "ipython",
    "version": 3
   },
   "file_extension": ".py",
   "mimetype": "text/x-python",
   "name": "python",
   "nbconvert_exporter": "python",
   "pygments_lexer": "ipython3",
   "version": "3.13.5"
  }
 },
 "nbformat": 4,
 "nbformat_minor": 5
}
